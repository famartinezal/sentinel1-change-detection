{
 "cells": [
  {
   "cell_type": "markdown",
   "id": "ac814b05",
   "metadata": {},
   "source": [
    "## Parte 1: Preparación de Datos y Definición del Área de Estudio\n",
    "\n",
    "### Introducción\n",
    "Este proyecto implementa metodologías de detección de cambios usando imágenes Sentinel-1 SAR para identificar cambios potenciales asociados a actividad agrícola en municipios seleccionados de los departamentos de Casanare y Meta, Colombia [1]. La detección de cambios mediante radar de apertura sintética (SAR) ofrece ventajas significativas sobre sensores ópticos, particularmente en regiones tropicales con cobertura nubosa frecuente [2].\n",
    "\n",
    "### Área de estudio\n",
    "Los municipios seleccionados corresponden a zonas de importancia agrícola en la región de la Orinoquía colombiana:\n",
    "\n",
    "**Departamento del Meta:**\n",
    "- Puerto López\n",
    "- Castilla La Nueva\n",
    "- San Carlos de Guaroa\n",
    "- Cabuyaro\n",
    "\n",
    "**Departamento de Casanare:**\n",
    "- Tauramena\n",
    "- Yopal\n",
    "- Aguazul\n",
    "- Nunchía\n",
    "- Villanueva\n",
    "\n",
    "### Metodología\n",
    "Este notebook implementa la primera fase del procesamiento siguiendo la metodología propuesta por Canty et al. [3] para análisis estadístico de cambios en series temporales de Sentinel-1 en Google Earth Engine. Los datos SAR de polarización dual (VV y VH) serán utilizados para detectar cambios estadísticamente significativos en la superficie terrestre.\n",
    "\n",
    "Los volúmenes oficiales de siembra y producción del semestre 2025-I provienen de la Encuesta Nacional de Arroz Mecanizado (ENAM) [7], utilizada como referencia estadística para los nueve municipios objetivo."
   ]
  },
  {
   "cell_type": "markdown",
   "metadata": {},
   "source": [
    "## 1. Carga de librerías\n",
    "\n",
    "Trabaja dentro de un entorno virtual dedicado para mantener controladas las dependencias del proyecto. Activa el entorno y asegúrate de que las bibliotecas de análisis geoespacial, visualización y la API de Google Earth Engine estén instaladas antes de ejecutar las celdas. Estas herramientas permiten replicar los ejercicios de cambio multitemporal descritos en el tutorial oficial [4]. Importa los módulos siguiendo el orden estándar → científicos → geoespaciales → visualización para que cualquiera identifique las dependencias de un vistazo."
   ]
  },
  {
   "cell_type": "code",
   "execution_count": null,
   "metadata": {},
   "outputs": [],
   "source": [
    "# Instalación de dependencias necesarias\n",
    "# !pip install earthengine-api geemap geopandas fiona\n",
    "\n",
    "import ee\n",
    "import geemap\n",
    "import geopandas as gpd\n",
    "import numpy as np\n",
    "import pandas as pd\n",
    "from datetime import datetime, timedelta\n",
    "import matplotlib.pyplot as plt\n",
    "import warnings\n",
    "warnings.filterwarnings('ignore')\n",
    "\n",
    "print(\"Librerías cargadas exitosamente\")"
   ]
  },
  {
   "cell_type": "markdown",
   "metadata": {},
   "source": [
    "## 2. Inicialización de Google Earth Engine\n",
    "\n",
    "Earth Engine es el motor que nos permite descargar y procesar las imágenes Sentinel-1. Usa el bloque `try/except` que llama primero a `ee.Initialize()` y, si falla, ejecuta `ee.Authenticate()` seguido de `ee.Initialize()`. Este patrón evita interrupciones cuando la sesión expira y es el que recomienda el tutorial de cambios con Sentinel-1 [4]."
   ]
  },
  {
   "cell_type": "code",
   "execution_count": null,
   "metadata": {},
   "outputs": [],
   "source": [
    "# Inicializar Earth Engine\n",
    "try:\n",
    "    ee.Initialize()\n",
    "    print(\"Earth Engine inicializado correctamente\")\n",
    "except:\n",
    "    print(\"Autenticando Earth Engine...\")\n",
    "    ee.Authenticate()\n",
    "    ee.Initialize()\n",
    "    print(\"Earth Engine autenticado e inicializado\")"
   ]
  },
  {
   "cell_type": "markdown",
   "metadata": {},
   "source": [
    "## 3. Carga de la capa de municipios desde Earth Engine\n",
    "\n",
    "Cargamos la FeatureCollection `users/geoia/MapasBase/ColMuni` que contiene los límites municipales de Colombia disponibles directamente en Earth Engine. Esta capa contiene los nueve municipios seleccionados en Casanare y Meta, que representan la diversidad agrícola de los Llanos Orientales según los reportes estadísticos del sector [5]."
   ]
  },
  {
   "cell_type": "code",
   "execution_count": null,
   "metadata": {},
   "outputs": [],
   "source": [
    "# FeatureCollection de Earth Engine con municipios de Colombia\n",
    "ee_asset = 'users/geoia/MapasBase/ColMuni'\n",
    "\n",
    "# Cargar la FeatureCollection completa\n",
    "municipios_colombia = ee.FeatureCollection(ee_asset)\n",
    "\n",
    "# Obtener información básica\n",
    "n_total = municipios_colombia.size().getInfo()\n",
    "print(f\"Total de municipios en Colombia (EE): {n_total}\")\n",
    "\n",
    "# Mostrar las primeras propiedades\n",
    "sample_props = municipios_colombia.first().propertyNames().getInfo()\n",
    "print(f\"\\nPropiedades disponibles: {sample_props}\")"
   ]
  },
  {
   "cell_type": "markdown",
   "metadata": {},
   "source": [
    "## 4. Selección de municipios de interés\n",
    "\n",
    "Filtra la capa con los códigos DANE de cada municipio y guarda la lista en una variable clara (`municipios_objetivo`). Esta lista sirve para repetir el análisis cuando se actualicen los datos y facilita que otros revisen la configuración sin buscar manualmente los filtros."
   ]
  },
  {
   "cell_type": "code",
   "execution_count": null,
   "metadata": {},
   "outputs": [],
   "source": [
    "# Definir los municipios objetivo usando códigos MPIO_CCDGO\n",
    "codigos_municipios = [\n",
    "    '50573',  # META - PUERTO LÓPEZ\n",
    "    '50150',  # META - CASTILLA LA NUEVA\n",
    "    '50680',  # META - SAN CARLOS DE GUAROA\n",
    "    '50124',  # META - CABUYARO\n",
    "    '85410',  # CASANARE - TAURAMENA\n",
    "    '85001',  # CASANARE - YOPAL\n",
    "    '85010',  # CASANARE - AGUAZUL\n",
    "    '85225',  # CASANARE - NUNCHÍA\n",
    "    '85440'   # CASANARE - VILLANUEVA\n",
    "]\n",
    "\n",
    "print(\"Códigos de municipios seleccionados:\")\n",
    "for codigo in codigos_municipios:\n",
    "    print(f\"  {codigo}\")"
   ]
  },
  {
   "cell_type": "code",
   "execution_count": null,
   "metadata": {},
   "outputs": [],
   "source": [
    "# Filtrar los municipios de interés usando Earth Engine\n",
    "municipios_seleccionados = municipios_colombia.filter(\n",
    "    ee.Filter.inList('MPIO_CCDGO', codigos_municipios)\n",
    ")\n",
    "\n",
    "n_seleccionados = municipios_seleccionados.size().getInfo()\n",
    "print(f\"\\nMunicipios encontrados: {n_seleccionados}\")\n",
    "\n",
    "# Obtener información detallada\n",
    "municipios_info = municipios_seleccionados.select(['DPTO_CNMBR', 'MPIO_CNMBR', 'MPIO_CCDGO', 'MPIO_NAREA']).getInfo()\n",
    "\n",
    "print(\"\\nDetalle de municipios:\")\n",
    "for feat in municipios_info['features']:\n",
    "    props = feat['properties']\n",
    "    print(f\"  {props['MPIO_CNMBR']:<25} ({props['DPTO_CNMBR']:<10}) - Código: {props['MPIO_CCDGO']}, Área: {props.get('MPIO_NAREA', 'N/A')} km²\")"
   ]
  },
  {
   "cell_type": "markdown",
   "metadata": {},
   "source": [
    "## 5. Cálculo de geometrías y metadatos\n",
    "\n",
    "Calculamos el centroide y bounds directamente en Earth Engine. Estos valores se usan para centrar mapas y definir el área de análisis."
   ]
  },
  {
   "cell_type": "code",
   "execution_count": null,
   "metadata": {},
   "outputs": [],
   "source": [
    "# Crear geometría única (unión de todos los municipios)\n",
    "aoi = municipios_seleccionados.geometry()\n",
    "\n",
    "# Calcular área total\n",
    "area_total_m2 = aoi.area().getInfo()\n",
    "area_total_km2 = area_total_m2 / 1e6\n",
    "\n",
    "# Calcular centroide\n",
    "centroid = aoi.centroid().coordinates().getInfo()\n",
    "centroide_lon = centroid[0]\n",
    "centroide_lat = centroid[1]\n",
    "\n",
    "# Calcular bounding box\n",
    "bounds_geom = aoi.bounds().getInfo()\n",
    "\n",
    "print(f\"\\nÁrea total: {area_total_km2:,.2f} km²\")\n",
    "print(f\"Centroide del área de estudio: Lat {centroide_lat:.4f}, Lon {centroide_lon:.4f}\")\n",
    "print(f\"\\nBounding Box (GeoJSON): {bounds_geom}\")"
   ]
  },
  {
   "cell_type": "markdown",
   "metadata": {},
   "source": [
    "## 6. Verificación del AOI de Earth Engine\n",
    "\n",
    "El AOI (Area of Interest) ya está creado como una geometría de Earth Engine lista para ser usada en los análisis posteriores. No requiere conversión adicional."
   ]
  },
  {
   "cell_type": "code",
   "execution_count": null,
   "metadata": {},
   "outputs": [],
   "source": [
    "# El AOI ya está en formato Earth Engine\n",
    "print(\"✓ AOI creado directamente desde FeatureCollection de Earth Engine\")\n",
    "print(f\"  Tipo: {type(aoi)}\")\n",
    "print(f\"  Número de municipios: {n_seleccionados}\")\n",
    "\n",
    "# El aoi_geometry es la geometría unificada\n",
    "aoi_geometry = aoi\n",
    "print(\"✓ Geometría unificada lista para análisis\")"
   ]
  },
  {
   "cell_type": "code",
   "execution_count": null,
   "id": "20c97541",
   "metadata": {},
   "outputs": [],
   "source": [
    "# Convertir municipios de Earth Engine a GeoDataFrame y guardar GeoPackage\n",
    "from pathlib import Path\n",
    "\n",
    "Path('data').mkdir(exist_ok=True)\n",
    "\n",
    "municipios_gdf = geemap.ee_to_geopandas(municipios_seleccionados)\n",
    "municipios_gdf_proj = municipios_gdf.to_crs(3116)\n",
    "municipios_gdf['area_ha'] = municipios_gdf_proj.geometry.area / 10000\n",
    "\n",
    "output_path = Path('data/municipios_seleccionados.gpkg')\n",
    "municipios_gdf.to_file(output_path, layer='municipios', driver='GPKG')\n",
    "\n",
    "print(f\"✓ GeoPackage guardado: {output_path}\")\n",
    "print(f\"  Municipios incluidos: {municipios_gdf.shape[0]}\")\n",
    "print(\"  Columnas disponibles: {}\".format(\n",
    "    ', '.join(col for col in municipios_gdf.columns if col != 'geometry')\n",
    "))\n"
   ]
  },
  {
   "cell_type": "markdown",
   "metadata": {},
   "source": [
    "## 7. Definición de parámetros temporales\n",
    "\n",
    "Define `start_date` y `end_date` para cubrir varios años agrícolas. Las series largas suavizan el efecto de semanas nubladas y permiten detectar tendencias estacionales, tal como se explica en los ejercicios de Sentinel-1 con Earth Engine [4]."
   ]
  },
  {
   "cell_type": "code",
   "execution_count": null,
   "metadata": {},
   "outputs": [],
   "source": "# Definir período de análisis - Segundo Semestre 2025\n# Se recomienda usar al menos 1 año de datos para capturar ciclos agrícolas completos\n\n# Fecha de inicio y fin (ajustar según necesidades)\nfecha_inicio = '2025-01-01'  # Formato: YYYY-MM-DD\nfecha_fin = '2025-09-30'\n\n# Convertir a objetos datetime\nstart_date = datetime.strptime(fecha_inicio, '%Y-%m-%d')\nend_date = datetime.strptime(fecha_fin, '%Y-%m-%d')\n\nprint(f\"Período de análisis:\")\nprint(f\"  Inicio: {start_date.strftime('%Y-%m-%d')}\")\nprint(f\"  Fin: {end_date.strftime('%Y-%m-%d')}\")\nprint(f\"  Duración: {(end_date - start_date).days} días\")\n\n# Guardar parámetros para uso en notebooks posteriores\nmunicipios_gpkg_path = 'data/municipios_seleccionados.gpkg'\nparametros = {\n    'fecha_inicio': fecha_inicio,\n    'fecha_fin': fecha_fin,\n    'ee_asset': ee_asset,\n    'codigos_municipios': codigos_municipios,\n    'centroide_lat': centroide_lat,\n    'centroide_lon': centroide_lon,\n    'bounds': bounds_geom,\n    'area_km2': area_total_km2,\n    'municipios_gpkg': municipios_gpkg_path,\n    'enam_2025': enam_2025  # Datos ENAM para contexto agrícola\n}\n\nprint(\"\\nParámetros definidos y guardados\")"
  },
  {
   "cell_type": "markdown",
   "metadata": {},
   "source": [
    "## 8. Visualización del área de estudio\n",
    "\n",
    "Usa geemap para dibujar los municipios seleccionados sobre un mapa base. Esta vista rápida confirma que las geometrías son correctas y ayuda a comunicar la zona de trabajo a públicos no técnicos. Puedes añadir etiquetas o marcadores si cuentas con parcelas de referencia."
   ]
  },
  {
   "cell_type": "code",
   "execution_count": null,
   "metadata": {},
   "outputs": [],
   "source": "# Definir período de análisis - Segundo Semestre 2025\n# Se recomienda usar al menos 1 año de datos para capturar ciclos agrícolas completos\n\n# Fecha de inicio y fin (ajustar según necesidades)\nfecha_inicio = '2025-01-01'  # Formato: YYYY-MM-DD\nfecha_fin = '2025-09-30'\n\n# Convertir a objetos datetime\nstart_date = datetime.strptime(fecha_inicio, '%Y-%m-%d')\nend_date = datetime.strptime(fecha_fin, '%Y-%m-%d')\n\nprint(f\"Período de análisis:\")\nprint(f\"  Inicio: {start_date.strftime('%Y-%m-%d')}\")\nprint(f\"  Fin: {end_date.strftime('%Y-%m-%d')}\")\nprint(f\"  Duración: {(end_date - start_date).days} días\")\n\n# Guardar parámetros para uso en notebooks posteriores\nmunicipios_gpkg_path = 'data/municipios_seleccionados.gpkg'\nparametros = {\n    'fecha_inicio': fecha_inicio,\n    'fecha_fin': fecha_fin,\n    'ee_asset': ee_asset,\n    'codigos_municipios': codigos_municipios,\n    'centroide_lat': centroide_lat,\n    'centroide_lon': centroide_lon,\n    'bounds': bounds_geom,\n    'area_km2': area_total_km2,\n    'municipios_gpkg': municipios_gpkg_path\n}\n\nprint(\"\\nParámetros definidos y guardados\")"
  },
  {
   "cell_type": "markdown",
   "metadata": {},
   "source": [
    "## 9. Exportar parámetros para notebooks posteriores\n",
    "\n",
    "Guardamos solo los parámetros en formato JSON. Las geometrías se reconstruirán directamente desde Earth Engine en los notebooks posteriores usando el asset y los códigos de municipios."
   ]
  },
  {
   "cell_type": "code",
   "execution_count": null,
   "metadata": {},
   "outputs": [],
   "source": [
    "# Guardar parámetros en formato JSON\n",
    "import json\n",
    "\n",
    "with open('data/parametros.json', 'w') as f:\n",
    "    json.dump(parametros, f, indent=2)\n",
    "\n",
    "print(f\"✓ Parámetros guardados en: data/parametros.json\")\n",
    "print(f\"\n",
    "Contenido clave:\")\n",
    "print(f\"  - Período: {fecha_inicio} a {fecha_fin}\")\n",
    "print(f\"  - Asset EE: {ee_asset}\")\n",
    "print(f\"  - Municipios: {len(codigos_municipios)}\")\n",
    "print(f\"  - Centroide: [{centroide_lat:.4f}, {centroide_lon:.4f}]\")\n",
    "print(f\"  - Área total: {area_total_km2:.2f} km²\")\n",
    "print(f\"  - GeoPackage: {parametros['municipios_gpkg']}\")\n"
   ]
  },
  {
   "cell_type": "markdown",
   "metadata": {},
   "source": [
    "## Resumen\n",
    "\n",
    "- Municipios seleccionados y reproyectados a WGS84 listos para Earth Engine.\n",
    "- Área de interés exportada como GeoPackage y colecciones compatibles con GEE.\n",
    "- Parámetros temporales definidos para análisis multianual consistente.\n",
    "- Contexto agronómico del semestre 2025-I incorporado con estadísticas ENAM para Meta y Casanare [7].\n",
    "- Mapa de control generado para validar la cobertura espacial.\n",
    "\n",
    "**Próximo notebook:** `02_preprocesamiento_sentinel1.ipynb` limpia y organiza la serie Sentinel-1 antes de calcular indicadores de cambio.\n"
   ]
  },
  {
   "cell_type": "markdown",
   "metadata": {},
   "source": [
    "### Referencias bibliográficas\n",
    "\n",
    "[1] M. J. Canty, A. A. Nielsen, H. Skriver y K. Conradsen, “Statistical Analysis of Changes in Sentinel-1 Time Series on the Google Earth Engine,” Remote Sensing, vol. 12, no. 1, p. 46, 2020, doi: 10.3390/rs12010046.\n",
    "\n",
    "[2] J. Reiche et al., “Combining Satellite Data for Better Tropical Forest Monitoring,” Nature Climate Change, vol. 6, no. 2, pp. 120–122, 2016, doi: 10.1038/nclimate2919.\n",
    "\n",
    "[3] M. J. Canty, *Image Analysis, Classification and Change Detection in Remote Sensing, with Algorithms for Python*, 4.ª ed., Boca Raton, FL, USA: CRC Press, 2019.\n",
    "\n",
    "[4] Google Earth Engine Developers, “Detecting Changes in Sentinel-1 Imagery, Part 1,” Google Developers, Mountain View, CA, USA, 2024. Disponible en: https://developers.google.com/earth-engine/tutorials/community/detecting-changes-in-sentinel-1-imagery-pt-1\n",
    "\n",
    "[5] Ministerio de Agricultura y Desarrollo Rural, *Evaluación Agropecuaria del Departamento del Meta y Casanare*, Bogotá, Colombia, 2023.\n",
    "\n",
    "[6] European Space Agency, *Sentinel-1 User Handbook*, ESA-EOEP-CSCOP-TN-13-0001, Noordwijk, Países Bajos, 2013.\n",
    "\n",
    "[7] Departamento Administrativo Nacional de Estadística (DANE), “Encuesta Nacional de Arroz Mecanizado (ENAM). Anexos estadísticos I semestre 2025,” Bogotá, Colombia, ago. 2025. Disponible en: anex-ENAM-Isem2025.xlsx.\n"
   ]
  }
 ],
 "metadata": {
  "kernelspec": {
   "display_name": "Python 3",
   "language": "python",
   "name": "python3"
  },
  "language_info": {
   "codemirror_mode": {
    "name": "ipython",
    "version": 3
   },
   "file_extension": ".py",
   "mimetype": "text/x-python",
   "name": "python",
   "nbconvert_exporter": "python",
   "pygments_lexer": "ipython3",
   "version": "3.9.0"
  }
 },
 "nbformat": 4,
 "nbformat_minor": 4
}