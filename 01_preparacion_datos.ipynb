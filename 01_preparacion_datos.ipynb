{
 "cells": [
  {
   "cell_type": "markdown",
   "metadata": {},
   "source": [
    "# Detección de Cambios con Sentinel-1 en Municipios de Casanare y Meta\n",
    "## Parte 1: Preparación de Datos y Definición del Área de Estudio\n",
    "\n",
    "### Introducción\n",
    "\n",
    "Este proyecto implementa metodologías de detección de cambios usando imágenes Sentinel-1 SAR para identificar cambios potenciales asociados a actividad agrícola en municipios seleccionados de los departamentos de Casanare y Meta, Colombia [1]. La detección de cambios mediante radar de apertura sintética (SAR) ofrece ventajas significativas sobre sensores ópticos, particularmente en regiones tropicales con cobertura nubosa frecuente [2].\n",
    "\n",
    "### Área de Estudio\n",
    "\n",
    "Los municipios seleccionados corresponden a zonas de importancia agrícola en la región de la Orinoquía colombiana:\n",
    "\n",
    "**Departamento del Meta:**\n",
    "- Puerto López\n",
    "- Castilla La Nueva\n",
    "- San Carlos de Guaroa\n",
    "- Cabuyaro\n",
    "\n",
    "**Departamento de Casanare:**\n",
    "- Tauramena\n",
    "- Yopal\n",
    "- Aguazul\n",
    "- Nunchía\n",
    "- Villanueva\n",
    "\n",
    "### Metodología\n",
    "\n",
    "Este notebook implementa la primera fase del procesamiento siguiendo la metodología propuesta por Canty et al. [3] para análisis estadístico de cambios en series temporales de Sentinel-1 en Google Earth Engine. Los datos SAR de polarización dual (VV y VH) serán utilizados para detectar cambios estadísticamente significativos en la superficie terrestre.\n",
    "\n",
    "---\n",
    "\n",
    "### Referencias\n",
    "\n",
    "[1] M. J. Canty, A. A. Nielsen, H. Skriver, and K. Conradsen, \"Statistical analysis of changes in Sentinel-1 time series on the Google Earth Engine,\" *Remote Sens.*, vol. 12, no. 1, p. 46, Jan. 2020, doi: 10.3390/rs12010046.\n",
    "\n",
    "[2] A. Reiche et al., \"Combining satellite data for better tropical forest monitoring,\" *Nat. Clim. Change*, vol. 6, pp. 120–122, Feb. 2016, doi: 10.1038/nclimate2919.\n",
    "\n",
    "[3] M. J. Canty, *Image Analysis, Classification and Change Detection in Remote Sensing, with Algorithms for Python*, 4th ed. Boca Raton, FL: CRC Press, 2019.\n",
    "\n",
    "[4] \"Detecting changes in Sentinel-1 imagery,\" Google Earth Engine Tutorials. [Online]. Available: https://developers.google.com/earth-engine/tutorials/community/detecting-changes-in-sentinel-1-imagery-pt-1"
   ]
  },
  {
   "cell_type": "markdown",
   "metadata": {},
   "source": [
    "## 1. Instalación y Carga de Librerías"
   ]
  },
  {
   "cell_type": "code",
   "execution_count": null,
   "metadata": {},
   "outputs": [],
   "source": [
    "# Instalación de dependencias necesarias\n",
    "# !pip install earthengine-api geemap geopandas fiona\n",
    "\n",
    "import ee\n",
    "import geemap\n",
    "import geopandas as gpd\n",
    "import numpy as np\n",
    "import pandas as pd\n",
    "from datetime import datetime, timedelta\n",
    "import matplotlib.pyplot as plt\n",
    "import warnings\n",
    "warnings.filterwarnings('ignore')\n",
    "\n",
    "print(\"Librerías cargadas exitosamente\")"
   ]
  },
  {
   "cell_type": "markdown",
   "metadata": {},
   "source": [
    "## 2. Inicialización de Google Earth Engine"
   ]
  },
  {
   "cell_type": "code",
   "execution_count": null,
   "metadata": {},
   "outputs": [],
   "source": [
    "# Inicializar Earth Engine\n",
    "try:\n",
    "    ee.Initialize()\n",
    "    print(\"Earth Engine inicializado correctamente\")\n",
    "except:\n",
    "    print(\"Autenticando Earth Engine...\")\n",
    "    ee.Authenticate()\n",
    "    ee.Initialize()\n",
    "    print(\"Earth Engine autenticado e inicializado\")"
   ]
  },
  {
   "cell_type": "markdown",
   "metadata": {},
   "source": [
    "## 3. Carga de la Capa de Municipios"
   ]
  },
  {
   "cell_type": "code",
   "execution_count": null,
   "metadata": {},
   "outputs": [],
   "source": [
    "# Ruta al archivo GeoPackage con los límites municipales\n",
    "gpkg_path = \"/home/famartinezal/Dropbox/Base/DANE_BASE_2023.gpkg\"\n",
    "layer_name = \"MGN_MPIO_POLITICO\"\n",
    "\n",
    "# Cargar la capa completa\n",
    "municipios_colombia = gpd.read_file(gpkg_path, layer=layer_name)\n",
    "\n",
    "print(f\"Total de municipios en Colombia: {len(municipios_colombia)}\")\n",
    "print(f\"Sistema de referencia: {municipios_colombia.crs}\")\n",
    "print(f\"\\nColumnas disponibles: {list(municipios_colombia.columns)}\")"
   ]
  },
  {
   "cell_type": "markdown",
   "metadata": {},
   "source": [
    "## 4. Selección de Municipios de Interés"
   ]
  },
  {
   "cell_type": "code",
   "execution_count": null,
   "metadata": {},
   "outputs": [],
   "source": [
    "# Definir los municipios objetivo\n",
    "municipios_meta = [\n",
    "    ('META', 'PUERTO LÓPEZ', '50', '573'),\n",
    "    ('META', 'CASTILLA LA NUEVA', '50', '150'),\n",
    "    ('META', 'SAN CARLOS DE GUAROA', '50', '680'),\n",
    "    ('META', 'CABUYARO', '50', '124')\n",
    "]\n",
    "\n",
    "municipios_casanare = [\n",
    "    ('CASANARE', 'TAURAMENA', '85', '410'),\n",
    "    ('CASANARE', 'YOPAL', '85', '001'),\n",
    "    ('CASANARE', 'AGUAZUL', '85', '010'),\n",
    "    ('CASANARE', 'NUNCHÍA', '85', '225'),\n",
    "    ('CASANARE', 'VILLANUEVA', '85', '440')\n",
    "]\n",
    "\n",
    "# Combinar todas las listas de municipios\n",
    "todos_municipios = municipios_meta + municipios_casanare\n",
    "\n",
    "# Crear DataFrame con la información\n",
    "municipios_info = pd.DataFrame(\n",
    "    todos_municipios, \n",
    "    columns=['departamento', 'municipio', 'cod_dpto', 'cod_mpio']\n",
    ")\n",
    "\n",
    "print(\"Municipios seleccionados:\")\n",
    "print(municipios_info.to_string(index=False))"
   ]
  },
  {
   "cell_type": "code",
   "execution_count": null,
   "metadata": {},
   "outputs": [],
   "source": [
    "# Filtrar los municipios de interés\n",
    "municipios_seleccionados = municipios_colombia[\n",
    "    (municipios_colombia['dpto_cnmbr'].isin(['META', 'CASANARE'])) &\n",
    "    (municipios_colombia['mpio_cnmbr'].isin([\n",
    "        'PUERTO LÓPEZ', 'CASTILLA LA NUEVA', 'SAN CARLOS DE GUAROA', 'CABUYARO',\n",
    "        'TAURAMENA', 'YOPAL', 'AGUAZUL', 'NUNCHÍA', 'VILLANUEVA'\n",
    "    ]))\n",
    "].copy()\n",
    "\n",
    "print(f\"\\nMunicipios encontrados: {len(municipios_seleccionados)}\")\n",
    "print(\"\\nDetalle de municipios:\")\n",
    "print(municipios_seleccionados[['dpto_cnmbr', 'mpio_cnmbr', 'dpto_ccdgo', 'mpio_ccdgo', 'mpio_narea']])"
   ]
  },
  {
   "cell_type": "markdown",
   "metadata": {},
   "source": [
    "## 5. Reproyección y Preparación de Geometrías"
   ]
  },
  {
   "cell_type": "code",
   "execution_count": null,
   "metadata": {},
   "outputs": [],
   "source": [
    "# Reproyectar a WGS84 (EPSG:4326) para compatibilidad con Earth Engine\n",
    "municipios_seleccionados = municipios_seleccionados.to_crs(epsg=4326)\n",
    "\n",
    "# Calcular el área total y el centroide\n",
    "area_total_km2 = municipios_seleccionados.geometry.area.sum() * 111.32 * 111.32  # Aproximación\n",
    "centroide = municipios_seleccionados.geometry.unary_union.centroid\n",
    "\n",
    "print(f\"\\nÁrea total aproximada: {area_total_km2:,.2f} km²\")\n",
    "print(f\"Centroide del área de estudio: Lat {centroide.y:.4f}, Lon {centroide.x:.4f}\")\n",
    "\n",
    "# Calcular el bounding box\n",
    "bounds = municipios_seleccionados.total_bounds\n",
    "print(f\"\\nBounding Box:\")\n",
    "print(f\"  Oeste: {bounds[0]:.4f}°\")\n",
    "print(f\"  Sur: {bounds[1]:.4f}°\")\n",
    "print(f\"  Este: {bounds[2]:.4f}°\")\n",
    "print(f\"  Norte: {bounds[3]:.4f}°\")"
   ]
  },
  {
   "cell_type": "markdown",
   "metadata": {},
   "source": [
    "## 6. Conversión a Geometría de Earth Engine"
   ]
  },
  {
   "cell_type": "code",
   "execution_count": null,
   "metadata": {},
   "outputs": [],
   "source": [
    "# Función para convertir geometría de GeoPandas a Earth Engine\n",
    "def gdf_to_ee_feature_collection(gdf):\n",
    "    \"\"\"Convierte un GeoDataFrame a una FeatureCollection de Earth Engine\"\"\"\n",
    "    features = []\n",
    "    for idx, row in gdf.iterrows():\n",
    "        geom = row.geometry\n",
    "        if geom.geom_type == 'Polygon':\n",
    "            coords = [list(geom.exterior.coords)]\n",
    "        elif geom.geom_type == 'MultiPolygon':\n",
    "            coords = [list(poly.exterior.coords) for poly in geom.geoms]\n",
    "        \n",
    "        # Crear propiedades\n",
    "        properties = {\n",
    "            'departamento': row['dpto_cnmbr'],\n",
    "            'municipio': row['mpio_cnmbr'],\n",
    "            'cod_dpto': row['dpto_ccdgo'],\n",
    "            'cod_mpio': row['mpio_ccdgo']\n",
    "        }\n",
    "        \n",
    "        # Crear feature de EE\n",
    "        if geom.geom_type == 'Polygon':\n",
    "            ee_geom = ee.Geometry.Polygon(coords)\n",
    "        else:\n",
    "            ee_geom = ee.Geometry.MultiPolygon(coords)\n",
    "        \n",
    "        features.append(ee.Feature(ee_geom, properties))\n",
    "    \n",
    "    return ee.FeatureCollection(features)\n",
    "\n",
    "# Convertir a FeatureCollection\n",
    "aoi = gdf_to_ee_feature_collection(municipios_seleccionados)\n",
    "print(\"Área de interés convertida a Earth Engine FeatureCollection\")\n",
    "\n",
    "# Crear también una geometría única (unión de todos los municipios)\n",
    "aoi_geometry = aoi.geometry()\n",
    "print(\"Geometría unificada creada\")"
   ]
  },
  {
   "cell_type": "markdown",
   "metadata": {},
   "source": [
    "## 7. Definición de Parámetros Temporales"
   ]
  },
  {
   "cell_type": "code",
   "execution_count": null,
   "metadata": {},
   "outputs": [],
   "source": [
    "# Definir período de análisis\n",
    "# Se recomienda usar al menos 1 año de datos para capturar ciclos agrícolas completos\n",
    "\n",
    "# Fecha de inicio y fin (ajustar según necesidades)\n",
    "fecha_inicio = '2023-01-01'  # Formato: YYYY-MM-DD\n",
    "fecha_fin = '2024-12-31'\n",
    "\n",
    "# Convertir a objetos datetime\n",
    "start_date = datetime.strptime(fecha_inicio, '%Y-%m-%d')\n",
    "end_date = datetime.strptime(fecha_fin, '%Y-%m-%d')\n",
    "\n",
    "print(f\"Período de análisis:\")\n",
    "print(f\"  Inicio: {start_date.strftime('%Y-%m-%d')}\")\n",
    "print(f\"  Fin: {end_date.strftime('%Y-%m-%d')}\")\n",
    "print(f\"  Duración: {(end_date - start_date).days} días\")\n",
    "\n",
    "# Guardar parámetros para uso en notebooks posteriores\n",
    "parametros = {\n",
    "    'fecha_inicio': fecha_inicio,\n",
    "    'fecha_fin': fecha_fin,\n",
    "    'centroide_lat': centroide.y,\n",
    "    'centroide_lon': centroide.x,\n",
    "    'bounds': bounds.tolist(),\n",
    "    'area_km2': area_total_km2\n",
    "}\n",
    "\n",
    "print(\"\\nParámetros definidos y guardados\")"
   ]
  },
  {
   "cell_type": "markdown",
   "metadata": {},
   "source": [
    "## 8. Visualización del Área de Estudio"
   ]
  },
  {
   "cell_type": "code",
   "execution_count": null,
   "metadata": {},
   "outputs": [],
   "source": [
    "# Crear mapa interactivo con geemap\n",
    "Map = geemap.Map(center=[centroide.y, centroide.x], zoom=9)\n",
    "\n",
    "# Agregar la capa de municipios\n",
    "Map.add_gdf(municipios_seleccionados, layer_name=\"Municipios de Estudio\")\n",
    "\n",
    "# Agregar el área de interés de EE\n",
    "Map.addLayer(aoi, {'color': 'red'}, 'AOI - Earth Engine', opacity=0.3)\n",
    "\n",
    "# Agregar etiquetas de municipios\n",
    "for idx, row in municipios_seleccionados.iterrows():\n",
    "    centroid = row.geometry.centroid\n",
    "    Map.add_marker(\n",
    "        location=[centroid.y, centroid.x],\n",
    "        popup=f\"{row['mpio_cnmbr']}, {row['dpto_cnmbr']}\"\n",
    "    )\n",
    "\n",
    "# Mostrar mapa\n",
    "Map"
   ]
  },
  {
   "cell_type": "markdown",
   "metadata": {},
   "source": [
    "## 9. Exportar Datos para Notebooks Posteriores"
   ]
  },
  {
   "cell_type": "code",
   "execution_count": null,
   "metadata": {},
   "outputs": [],
   "source": [
    "# Guardar el GeoDataFrame con los municipios seleccionados\n",
    "output_path = \"data/municipios_seleccionados.gpkg\"\n",
    "municipios_seleccionados.to_file(output_path, driver=\"GPKG\", layer=\"municipios\")\n",
    "print(f\"Municipios guardados en: {output_path}\")\n",
    "\n",
    "# Guardar parámetros en formato JSON\n",
    "import json\n",
    "with open('data/parametros.json', 'w') as f:\n",
    "    json.dump(parametros, f, indent=2)\n",
    "print(f\"Parámetros guardados en: data/parametros.json\")"
   ]
  },
  {
   "cell_type": "markdown",
   "metadata": {},
   "source": [
    "## Resumen\n",
    "\n",
    "En este notebook se han completado las siguientes tareas:\n",
    "\n",
    "1. ✓ Carga de la capa de municipios del DANE 2023\n",
    "2. ✓ Selección de 9 municipios en Casanare y Meta\n",
    "3. ✓ Reproyección a WGS84 para compatibilidad con Earth Engine\n",
    "4. ✓ Conversión de geometrías a formato Earth Engine\n",
    "5. ✓ Definición de parámetros temporales\n",
    "6. ✓ Visualización del área de estudio\n",
    "7. ✓ Exportación de datos para análisis posterior\n",
    "\n",
    "**Próximo paso**: Notebook 2 - Preprocesamiento y filtrado de imágenes Sentinel-1"
   ]
  }
 ],
 "metadata": {
  "kernelspec": {
   "display_name": "Python 3",
   "language": "python",
   "name": "python3"
  },
  "language_info": {
   "codemirror_mode": {
    "name": "ipython",
    "version": 3
   },
   "file_extension": ".py",
   "mimetype": "text/x-python",
   "name": "python",
   "nbconvert_exporter": "python",
   "pygments_lexer": "ipython3",
   "version": "3.9.0"
  }
 },
 "nbformat": 4,
 "nbformat_minor": 4
}
