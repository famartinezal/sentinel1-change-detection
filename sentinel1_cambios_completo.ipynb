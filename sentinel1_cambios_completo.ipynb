{
 "cells": [
  {
   "cell_type": "markdown",
   "metadata": {},
   "source": "# Monitoreo de Cambios Agr\u00edcolas con Sentinel-1 SAR\n## An\u00e1lisis Completo - Llanos Orientales de Colombia\n\n### Resumen\nNotebook consolidado que integra preparaci\u00f3n de datos, preprocesamiento Sentinel-1, detecci\u00f3n de cambios y visualizaci\u00f3n.\n\n**Municipios:** 9 en Casanare y Meta  \n**Metodolog\u00eda:** Canty et al. (2020), Conradsen et al. (2003)  \n**Plataforma:** Google Earth Engine"
  },
  {
   "cell_type": "markdown",
   "metadata": {},
   "source": "## 1. Configuraci\u00f3n del Entorno\n\n### Instalaci\u00f3n de Dependencias\n```bash\npip install earthengine-api geemap geopandas fiona matplotlib seaborn pandas numpy plotly jupyter\n```"
  },
  {
   "cell_type": "code",
   "execution_count": null,
   "metadata": {},
   "outputs": [],
   "source": "# Importar librer\u00edas\nimport ee\nimport geemap\nimport geopandas as gpd\nimport numpy as np\nimport pandas as pd\nimport json\nimport matplotlib.pyplot as plt\nimport seaborn as sns\nfrom matplotlib.patches import Patch\nfrom datetime import datetime, timedelta\nfrom pathlib import Path\nimport warnings\nwarnings.filterwarnings('ignore')\n\n# Configuraci\u00f3n\nplt.style.use('seaborn-v0_8-whitegrid')\nsns.set_context('notebook', font_scale=1.1)\nsns.set_palette('Set2')\n\nPath('data').mkdir(exist_ok=True)\nprint('\u2713 Librer\u00edas cargadas')"
  },
  {
   "cell_type": "code",
   "execution_count": null,
   "metadata": {},
   "outputs": [],
   "source": "# Inicializar Google Earth Engine\ntry:\n    ee.Initialize()\n    print('\u2713 Earth Engine inicializado')\nexcept:\n    print('\u26a0 Ejecute: ee.Authenticate()')\n    raise"
  },
  {
   "cell_type": "markdown",
   "metadata": {},
   "source": "## 2. Preparaci\u00f3n de Datos y \u00c1rea de Estudio\n\n### 2.1. Configuraci\u00f3n de Par\u00e1metros"
  },
  {
   "cell_type": "code",
   "execution_count": null,
   "metadata": {},
   "outputs": [],
   "source": "# Par\u00e1metros temporales\nFECHA_INICIO = '2023-01-01'\nFECHA_FIN = '2024-12-31'\n\n# Per\u00edodos para an\u00e1lisis de cambios\nREFERENCE_START = '2023-01-01'\nREFERENCE_END = '2023-06-30'\nTARGET_START = '2024-01-01'\nTARGET_END = '2024-06-30'\n\n# Ruta al GPKG\nGPKG_PATH = '/home/famartinezal/Dropbox/Base/DANE_BASE_2023.gpkg'\nLAYER_NAME = 'MGN_MPIO_POLITICO'\n\nprint(f'Per\u00edodo total: {FECHA_INICIO} a {FECHA_FIN}')\nprint(f'Referencia: {REFERENCE_START} a {REFERENCE_END}')\nprint(f'An\u00e1lisis: {TARGET_START} a {TARGET_END}')"
  },
  {
   "cell_type": "markdown",
   "metadata": {},
   "source": "### 2.2. Carga de Municipios"
  },
  {
   "cell_type": "code",
   "execution_count": null,
   "metadata": {},
   "outputs": [],
   "source": "# Cargar capa de municipios\nmunicipios_colombia = gpd.read_file(GPKG_PATH, layer=LAYER_NAME)\n\n# Municipios objetivo\nMUNICIPIOS_META = ['PUERTO L\u00d3PEZ', 'CASTILLA LA NUEVA', 'SAN CARLOS DE GUAROA', 'CABUYARO']\nMUNICIPIOS_CASANARE = ['TAURAMENA', 'YOPAL', 'AGUAZUL', 'NUNCH\u00cdA', 'VILLANUEVA']\n\nmunicipios = municipios_colombia[\n    (municipios_colombia['dpto_cnmbr'].isin(['META', 'CASANARE'])) &\n    (municipios_colombia['mpio_cnmbr'].isin(MUNICIPIOS_META + MUNICIPIOS_CASANARE))\n].copy()\n\nmunicipios = municipios.to_crs(epsg=4326)\nprint(f'\u2713 Municipios cargados: {len(municipios)}')\nprint(municipios[['dpto_cnmbr', 'mpio_cnmbr']].to_string(index=False))"
  },
  {
   "cell_type": "markdown",
   "metadata": {},
   "source": "### 2.3. Crear AOI para Earth Engine"
  },
  {
   "cell_type": "code",
   "execution_count": null,
   "metadata": {},
   "outputs": [],
   "source": "def gdf_to_ee_geometry(gdf):\n    geom = gdf.geometry.unary_union\n    if geom.geom_type == 'Polygon':\n        return ee.Geometry.Polygon([list(geom.exterior.coords)])\n    else:\n        return ee.Geometry.MultiPolygon([list(p.exterior.coords) for p in geom.geoms])\n\naoi = gdf_to_ee_geometry(municipios)\ncentroide = municipios.geometry.unary_union.centroid\nbounds = municipios.total_bounds\n\nprint(f'\u2713 AOI creada')\nprint(f'Centroide: {centroide.y:.4f}, {centroide.x:.4f}')"
  },
  {
   "cell_type": "markdown",
   "metadata": {},
   "source": "## 3. Preprocesamiento Sentinel-1\n\n### 3.1. Definir Pipeline de Procesamiento"
  },
  {
   "cell_type": "code",
   "execution_count": null,
   "metadata": {},
   "outputs": [],
   "source": "def process_sentinel1(aoi, start, end, orbit=None):\n    s1 = ee.ImageCollection('COPERNICUS/S1_GRD') \\\n        .filterBounds(aoi).filterDate(start, end) \\\n        .filter(ee.Filter.eq('instrumentMode', 'IW')) \\\n        .filter(ee.Filter.listContains('transmitterReceiverPolarisation', 'VV')) \\\n        .filter(ee.Filter.listContains('transmitterReceiverPolarisation', 'VH'))\n    \n    if orbit:\n        s1 = s1.filter(ee.Filter.eq('orbitProperties_pass', orbit))\n    \n    def to_dB(img):\n        vv = ee.Image(10).multiply(img.select('VV').log10()).rename('VV')\n        vh = ee.Image(10).multiply(img.select('VH').log10()).rename('VH')\n        ratio = vv.subtract(vh).rename('VV_VH_ratio')\n        return img.addBands([vv, vh, ratio]).copyProperties(img, ['system:time_start'])\n    \n    def speckle_filter(img):\n        k = ee.Kernel.square(3, 'pixels')\n        vv = img.select('VV').focal_median(k).rename('VV_filt')\n        vh = img.select('VH').focal_median(k).rename('VH_filt')\n        ratio = img.select('VV_VH_ratio').focal_median(k).rename('ratio_filt')\n        return img.addBands([vv, vh, ratio])\n    \n    return s1.map(to_dB).map(speckle_filter)\n\nprint('\u2713 Pipeline definido')"
  },
  {
   "cell_type": "markdown",
   "metadata": {},
   "source": "### 3.2. Cargar y Filtrar Colecci\u00f3n"
  },
  {
   "cell_type": "code",
   "execution_count": null,
   "metadata": {},
   "outputs": [],
   "source": "# Cargar colecci\u00f3n\ns1_col = process_sentinel1(aoi, FECHA_INICIO, FECHA_FIN)\n\n# Seleccionar \u00f3rbita con m\u00e1s im\u00e1genes\ns1_asc = s1_col.filter(ee.Filter.eq('orbitProperties_pass', 'ASCENDING'))\ns1_desc = s1_col.filter(ee.Filter.eq('orbitProperties_pass', 'DESCENDING'))\n\nn_asc = s1_asc.size().getInfo()\nn_desc = s1_desc.size().getInfo()\n\nif n_asc >= n_desc:\n    s1_filtered = s1_asc\n    orbit_type = 'ASCENDING'\nelse:\n    s1_filtered = s1_desc\n    orbit_type = 'DESCENDING'\n\nprint(f'\u00d3rbita seleccionada: {orbit_type}')\nprint(f'Im\u00e1genes disponibles: {s1_filtered.size().getInfo()}')"
  },
  {
   "cell_type": "markdown",
   "metadata": {},
   "source": "## 4. Detecci\u00f3n de Cambios\n\n### 4.1. Crear Composiciones"
  },
  {
   "cell_type": "code",
   "execution_count": null,
   "metadata": {},
   "outputs": [],
   "source": "# Composiciones de referencia y an\u00e1lisis\nref_comp = s1_filtered.filterDate(REFERENCE_START, REFERENCE_END).median().clip(aoi)\ntarget_comp = s1_filtered.filterDate(TARGET_START, TARGET_END).median().clip(aoi)\n\nn_ref = s1_filtered.filterDate(REFERENCE_START, REFERENCE_END).size().getInfo()\nn_target = s1_filtered.filterDate(TARGET_START, TARGET_END).size().getInfo()\n\nprint(f'Composici\u00f3n referencia: {n_ref} im\u00e1genes')\nprint(f'Composici\u00f3n an\u00e1lisis: {n_target} im\u00e1genes')"
  },
  {
   "cell_type": "markdown",
   "metadata": {},
   "source": "### 4.2. M\u00e9todos de Detecci\u00f3n\n\n#### M\u00e9todo 1: Diferencias Temporales"
  },
  {
   "cell_type": "code",
   "execution_count": null,
   "metadata": {},
   "outputs": [],
   "source": "# Diferencias absolutas\ndiff_vv = target_comp.select('VV_filt').subtract(ref_comp.select('VV_filt')).rename('diff_VV')\ndiff_vh = target_comp.select('VH_filt').subtract(ref_comp.select('VH_filt')).rename('diff_VH')\n\n# Magnitud de cambio\nchange_mag = diff_vv.pow(2).add(diff_vh.pow(2)).sqrt().rename('change_magnitude')\n\nprint('\u2713 Diferencias calculadas')"
  },
  {
   "cell_type": "markdown",
   "metadata": {},
   "source": "#### M\u00e9todo 2: \u00cdndice NDCV"
  },
  {
   "cell_type": "code",
   "execution_count": null,
   "metadata": {},
   "outputs": [],
   "source": "def calc_ndcv(band):\n    ref_lin = ee.Image(10).pow(ref_comp.select(band).divide(10))\n    target_lin = ee.Image(10).pow(target_comp.select(band).divide(10))\n    return target_lin.subtract(ref_lin).abs().divide(target_lin.add(ref_lin))\n\nndcv_vv = calc_ndcv('VV_filt').rename('NDCV_VV')\nndcv_vh = calc_ndcv('VH_filt').rename('NDCV_VH')\nndcv_combined = ndcv_vv.add(ndcv_vh).divide(2).rename('NDCV')\n\n# M\u00e1scara de cambio\nchange_mask = ndcv_combined.gt(0.3).rename('change_mask')\n\nprint('\u2713 NDCV calculado')"
  },
  {
   "cell_type": "markdown",
   "metadata": {},
   "source": "#### M\u00e9todo 3: Clasificaci\u00f3n de Cambios"
  },
  {
   "cell_type": "code",
   "execution_count": null,
   "metadata": {},
   "outputs": [],
   "source": "# Umbrales\nSTRONG_THRESH = 3.0\nMOD_THRESH = 1.5\n\n# Clasificaci\u00f3n\nchange_class = ee.Image(0).clip(aoi)\nchange_class = change_class.where(diff_vv.gt(STRONG_THRESH), 1)  # Aumento fuerte\nchange_class = change_class.where(diff_vv.lt(-STRONG_THRESH), 2)  # Disminuci\u00f3n fuerte\nchange_class = change_class.where(\n    diff_vv.gt(MOD_THRESH).And(diff_vv.lte(STRONG_THRESH)), 3\n)  # Aumento moderado\nchange_class = change_class.where(\n    diff_vv.lt(-MOD_THRESH).And(diff_vv.gte(-STRONG_THRESH)), 4\n)  # Disminuci\u00f3n moderada\nchange_class = change_class.rename('change_class')\n\nprint('\u2713 Clasificaci\u00f3n completada')"
  },
  {
   "cell_type": "markdown",
   "metadata": {},
   "source": "## 5. Estad\u00edsticas por Municipio"
  },
  {
   "cell_type": "code",
   "execution_count": null,
   "metadata": {},
   "outputs": [],
   "source": "# Extraer estad\u00edsticas\nstats_list = []\n\nfor idx, row in municipios.iterrows():\n    geom = row.geometry\n    if geom.geom_type == 'Polygon':\n        ee_geom = ee.Geometry.Polygon([list(geom.exterior.coords)])\n    else:\n        ee_geom = ee.Geometry.MultiPolygon([list(p.exterior.coords) for p in geom.geoms])\n    \n    # Estad\u00edsticas de diferencia\n    diff_stats = diff_vv.addBands(diff_vh).reduceRegion(\n        reducer=ee.Reducer.mean(),\n        geometry=ee_geom,\n        scale=10,\n        maxPixels=1e9\n    )\n    \n    # NDCV\n    ndcv_mean = ndcv_combined.reduceRegion(\n        reducer=ee.Reducer.mean(),\n        geometry=ee_geom,\n        scale=10,\n        maxPixels=1e9\n    ).get('NDCV')\n    \n    # \u00c1rea de cambio\n    area_total = ee_geom.area().divide(10000)  # ha\n    area_cambio = change_mask.multiply(ee.Image.pixelArea()).divide(10000).reduceRegion(\n        reducer=ee.Reducer.sum(),\n        geometry=ee_geom,\n        scale=10,\n        maxPixels=1e9\n    ).get('change_mask')\n    \n    stats = {\n        'municipio': row['mpio_cnmbr'],\n        'departamento': row['dpto_cnmbr'],\n        'diff_VV': diff_stats.get('diff_VV'),\n        'diff_VH': diff_stats.get('diff_VH'),\n        'NDCV': ndcv_mean,\n        'area_total_ha': area_total.getInfo(),\n        'area_cambio_ha': ee.Number(area_cambio).getInfo(),\n        'pct_cambio': ee.Number(area_cambio).divide(area_total).multiply(100).getInfo()\n    }\n    \n    stats_list.append(stats)\n    print(f'  Procesado: {row[\"mpio_cnmbr\"]}')\n\nstats_df = pd.DataFrame(stats_list).sort_values('pct_cambio', ascending=False)\nprint('\\n' + stats_df.to_string(index=False))"
  },
  {
   "cell_type": "markdown",
   "metadata": {},
   "source": "## 6. Visualizaci\u00f3n\n\n### 6.1. Mapa Interactivo"
  },
  {
   "cell_type": "code",
   "execution_count": null,
   "metadata": {},
   "outputs": [],
   "source": "Map = geemap.Map(center=[centroide.y, centroide.x], zoom=9)\nMap.add_gdf(municipios, layer_name='Municipios', style={'fillOpacity': 0})\n\n# Par\u00e1metros de visualizaci\u00f3n\nvis_diff = {'min': -5, 'max': 5, 'palette': ['red', 'white', 'blue']}\nvis_ndcv = {'min': 0, 'max': 0.6, 'palette': ['white', 'yellow', 'orange', 'red']}\nvis_class = {'min': 0, 'max': 4, 'palette': ['gray', 'blue', 'red', 'lightblue', 'orange']}\n\nMap.addLayer(diff_vv, vis_diff, 'Diferencia VV', True)\nMap.addLayer(ndcv_combined, vis_ndcv, 'NDCV', True)\nMap.addLayer(change_class, vis_class, 'Clasificaci\u00f3n', False)\n\nMap"
  },
  {
   "cell_type": "markdown",
   "metadata": {},
   "source": "### 6.2. Gr\u00e1ficos Estad\u00edsticos"
  },
  {
   "cell_type": "code",
   "execution_count": null,
   "metadata": {},
   "outputs": [],
   "source": "fig, axes = plt.subplots(2, 1, figsize=(12, 10))\n\n# Porcentaje de cambio\ncolors = ['#1f77b4' if d == 'CASANARE' else '#ff7f0e' for d in stats_df['departamento']]\naxes[0].barh(range(len(stats_df)), stats_df['pct_cambio'], color=colors)\naxes[0].set_yticks(range(len(stats_df)))\naxes[0].set_yticklabels(stats_df['municipio'])\naxes[0].set_xlabel('Porcentaje de \u00c1rea con Cambio (%)')\naxes[0].set_title('Detecci\u00f3n de Cambios por Municipio', fontweight='bold')\naxes[0].grid(axis='x', alpha=0.3)\n\n# \u00c1rea en hect\u00e1reas\naxes[1].barh(range(len(stats_df)), stats_df['area_cambio_ha'], color=colors)\naxes[1].set_yticks(range(len(stats_df)))\naxes[1].set_yticklabels(stats_df['municipio'])\naxes[1].set_xlabel('\u00c1rea con Cambio (hect\u00e1reas)')\naxes[1].set_title('\u00c1rea Total con Cambios Detectados', fontweight='bold')\naxes[1].grid(axis='x', alpha=0.3)\n\nplt.tight_layout()\nplt.savefig('data/cambios_municipios.png', dpi=300, bbox_inches='tight')\nplt.show()\nprint('\u2713 Gr\u00e1ficos guardados')"
  },
  {
   "cell_type": "markdown",
   "metadata": {},
   "source": "## 7. Exportaci\u00f3n de Resultados"
  },
  {
   "cell_type": "code",
   "execution_count": null,
   "metadata": {},
   "outputs": [],
   "source": "# Guardar estad\u00edsticas\nstats_df.to_csv('data/estadisticas_cambios.csv', index=False)\n\n# Guardar par\u00e1metros\nparams = {\n    'fecha_inicio': FECHA_INICIO,\n    'fecha_fin': FECHA_FIN,\n    'reference_period': {'start': REFERENCE_START, 'end': REFERENCE_END},\n    'target_period': {'start': TARGET_START, 'end': TARGET_END},\n    'orbit_type': orbit_type,\n    'n_images_ref': n_ref,\n    'n_images_target': n_target,\n    'strong_threshold': STRONG_THRESH,\n    'moderate_threshold': MOD_THRESH\n}\n\nwith open('data/parametros_analisis.json', 'w') as f:\n    json.dump(params, f, indent=2)\n\n# GeoPackage con resultados\nmunicipios_results = municipios.merge(\n    stats_df[['municipio', 'pct_cambio', 'area_cambio_ha', 'NDCV']],\n    left_on='mpio_cnmbr',\n    right_on='municipio',\n    how='left'\n)\nmunicipios_results.to_file('data/municipios_resultados.gpkg', driver='GPKG')\n\nprint('\u2713 Resultados exportados en data/')"
  },
  {
   "cell_type": "markdown",
   "metadata": {},
   "source": "## Resumen y Conclusiones\n\n### Productos Generados\n\n1. \u2713 Estad\u00edsticas de cambio por municipio (CSV)\n2. \u2713 Par\u00e1metros del an\u00e1lisis (JSON)\n3. \u2713 Capa espacial con resultados (GeoPackage)\n4. \u2713 Visualizaciones (PNG)\n5. \u2713 Mapa interactivo (geemap)\n\n### Interpretaci\u00f3n Agr\u00edcola\n\n**Cambios detectados:**\n- **Aumento de backscatter VV/VH**: Posible crecimiento vegetativo, emergencia de cultivos, inundaci\u00f3n de campos (preparaci\u00f3n arroz)\n- **Disminuci\u00f3n de backscatter**: Posible cosecha, senescencia, preparaci\u00f3n de suelo, sequ\u00eda\n- **Alta variabilidad**: Rotaci\u00f3n de cultivos, gesti\u00f3n agr\u00edcola activa\n\n### Referencias Completas\n\nVer archivo `references.bib` para bibliograf\u00eda en formato BibTeX.\n\n**Referencias clave:**\n- Canty et al. (2020): https://doi.org/10.3390/rs12010046\n- Conradsen et al. (2003): https://doi.org/10.1109/TGRS.2002.808066\n- Veloso et al. (2017): https://doi.org/10.1016/j.rse.2017.07.015"
  }
 ],
 "metadata": {
  "kernelspec": {
   "display_name": "Python 3",
   "language": "python",
   "name": "python3"
  },
  "language_info": {
   "codemirror_mode": {
    "name": "ipython",
    "version": 3
   },
   "file_extension": ".py",
   "mimetype": "text/x-python",
   "name": "python",
   "nbconvert_exporter": "python",
   "pygments_lexer": "ipython3",
   "version": "3.9.0"
  }
 },
 "nbformat": 4,
 "nbformat_minor": 4
}